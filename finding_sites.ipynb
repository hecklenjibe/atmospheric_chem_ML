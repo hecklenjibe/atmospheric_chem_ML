{
 "cells": [
  {
   "cell_type": "code",
   "execution_count": null,
   "metadata": {},
   "outputs": [],
   "source": [
    "%load_ext autoreload\n",
    "%autoreload 2\n",
    "\n",
    "import pandas as pd\n",
    "import numpy as np\n",
    "import matplotlib.pyplot as plt\n",
    "from dateutil.relativedelta import relativedelta\n",
    "import json\n",
    "\n",
    "# local imports\n",
    "from find_sites import findSites\n",
    "findsites = findSites()\n",
    "\n",
    "import sys\n",
    "sys.path.append('/Users/olivia/main/research/atmospheric_chem_ML/chem150')\n",
    "from data_fetcher import DataFetcher\n",
    "datafetcher = DataFetcher()"
   ]
  }
 ],
 "metadata": {
  "language_info": {
   "name": "python"
  },
  "orig_nbformat": 4
 },
 "nbformat": 4,
 "nbformat_minor": 2
}
