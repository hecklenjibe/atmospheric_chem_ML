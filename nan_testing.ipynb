{
 "cells": [
  {
   "cell_type": "code",
   "execution_count": 1,
   "metadata": {},
   "outputs": [],
   "source": [
    "# 1 Reload all modules imported with %aimport every time before executing the Python code typed.\n",
    "# 2 SHOULD just auto-reload everything\n",
    "# just make sure you actually save the file!\n",
    "%load_ext autoreload\n",
    "%autoreload 2"
   ]
  },
  {
   "cell_type": "code",
   "execution_count": 2,
   "metadata": {},
   "outputs": [],
   "source": [
    "# local imports\n",
    "from nan_checker import NaNChecker"
   ]
  },
  {
   "cell_type": "code",
   "execution_count": 3,
   "metadata": {},
   "outputs": [],
   "source": [
    "import sys\n",
    "\n",
    "# !! THIS NEEDS TO BE CHANGED FOR PERSONAL DIRECTORY LOCATION\n",
    "# wihtout doing this data_fetcher can't import properly\n",
    "sys.path.append('/Users/olivia/main/research/atmospheric_chem_ML/chem150')\n",
    "\n",
    "# I am currently unsure if it will be able to find this environment file but ahhh\n",
    "from data_fetcher import DataFetcher\n",
    "\n",
    "datafetcher = DataFetcher()"
   ]
  },
  {
   "cell_type": "code",
   "execution_count": 8,
   "metadata": {},
   "outputs": [],
   "source": [
    "import pandas as pd\n",
    "import numpy as np\n",
    "import matplotlib.pyplot as plt\n",
    "from dateutil.relativedelta import relativedelta\n",
    "import json\n",
    "\n",
    "import matplotlib.pyplot as plt\n",
    "import numpy as np\n",
    "import pandas as pd"
   ]
  },
  {
   "cell_type": "code",
   "execution_count": 9,
   "metadata": {},
   "outputs": [
    {
     "name": "stdout",
     "output_type": "stream",
     "text": [
      "California state code: 06\n"
     ]
    }
   ],
   "source": [
    "LIST_STATES = 'list/states'\n",
    "\n",
    "# ok so get codes isn't working for some reason. Guess I'll report back\n",
    "cali_code = datafetcher.get_codes(LIST_STATES, all=False, value='California')\n",
    "print('California state code:', cali_code)"
   ]
  },
  {
   "cell_type": "code",
   "execution_count": 11,
   "metadata": {},
   "outputs": [
    {
     "name": "stdout",
     "output_type": "stream",
     "text": [
      "THIS RAN THE RIGHT CODE FOR DIRECTION\n"
     ]
    }
   ],
   "source": [
    "AQS_LA_df = datafetcher.create_dataset(20181001, 20190215, site=1103, county='037', state='06', processed=True, verbose=False)\n",
    "AQS_LA_df['Ozone']=AQS_LA_df['Ozone']*1000 #converts ppm to ppb"
   ]
  },
  {
   "cell_type": "code",
   "execution_count": 20,
   "metadata": {},
   "outputs": [],
   "source": [
    "nan_checker = NaNChecker(AQS_LA_df)\n",
    "# AQS_LA_df"
   ]
  },
  {
   "cell_type": "code",
   "execution_count": 22,
   "metadata": {},
   "outputs": [
    {
     "data": {
      "text/plain": [
       "array([[<AxesSubplot:title={'center':'NaNs'}>]], dtype=object)"
      ]
     },
     "execution_count": 22,
     "metadata": {},
     "output_type": "execute_result"
    },
    {
     "data": {
      "image/png": "[encoded data removed]",
      "text/plain": [
       "<Figure size 432x288 with 1 Axes>"
      ]
     },
     "metadata": {
      "needs_background": "light"
     },
     "output_type": "display_data"
    }
   ],
   "source": [
    "nan_checker.tally_nans(\"Ozone\")"
   ]
  }
 ],
 "metadata": {
  "interpreter": {
   "hash": "29a8d22f02fee63bc70daa9e598ce363ea4af35e82d31a5531f21066780a43e6"
  },
  "kernelspec": {
   "display_name": "Python 3.8.9 ('venv': venv)",
   "language": "python",
   "name": "python3"
  },
  "language_info": {
   "codemirror_mode": {
    "name": "ipython",
    "version": 3
   },
   "file_extension": ".py",
   "mimetype": "text/x-python",
   "name": "python",
   "nbconvert_exporter": "python",
   "pygments_lexer": "ipython3",
   "version": "3.8.9"
  },
  "orig_nbformat": 4
 },
 "nbformat": 4,
 "nbformat_minor": 2
}
